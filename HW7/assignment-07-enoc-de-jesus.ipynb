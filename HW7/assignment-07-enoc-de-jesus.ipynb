{
 "cells": [
  {
   "cell_type": "markdown",
   "metadata": {},
   "source": [
    "Question 1"
   ]
  },
  {
   "cell_type": "markdown",
   "metadata": {},
   "source": [
    "Only _data and myVar can be variable names. 2nd_value starts with a number, which is not allowed in python. class is a special structure used for creating objects, like how def creates functions. t0T4L-4M0UnT has a dash in the middle, and python thinks you are subtracting two variables, so it cannot be a name."
   ]
  },
  {
   "cell_type": "code",
   "execution_count": 4,
   "metadata": {},
   "outputs": [],
   "source": [
    "_data = [5,2]\n",
    "myVar = 5"
   ]
  },
  {
   "cell_type": "code",
   "execution_count": 7,
   "metadata": {},
   "outputs": [
    {
     "ename": "SyntaxError",
     "evalue": "invalid decimal literal (872173658.py, line 1)",
     "output_type": "error",
     "traceback": [
      "\u001b[1;36m  Cell \u001b[1;32mIn[7], line 1\u001b[1;36m\u001b[0m\n\u001b[1;33m    2nd_value = 5\u001b[0m\n\u001b[1;37m    ^\u001b[0m\n\u001b[1;31mSyntaxError\u001b[0m\u001b[1;31m:\u001b[0m invalid decimal literal\n"
     ]
    }
   ],
   "source": [
    "2nd_value = 5"
   ]
  },
  {
   "cell_type": "code",
   "execution_count": 8,
   "metadata": {},
   "outputs": [
    {
     "ename": "SyntaxError",
     "evalue": "invalid syntax (3803121759.py, line 1)",
     "output_type": "error",
     "traceback": [
      "\u001b[1;36m  Cell \u001b[1;32mIn[8], line 1\u001b[1;36m\u001b[0m\n\u001b[1;33m    class =5\u001b[0m\n\u001b[1;37m          ^\u001b[0m\n\u001b[1;31mSyntaxError\u001b[0m\u001b[1;31m:\u001b[0m invalid syntax\n"
     ]
    }
   ],
   "source": [
    "class =5"
   ]
  },
  {
   "cell_type": "code",
   "execution_count": 9,
   "metadata": {},
   "outputs": [
    {
     "ename": "SyntaxError",
     "evalue": "invalid decimal literal (2533202850.py, line 1)",
     "output_type": "error",
     "traceback": [
      "\u001b[1;36m  Cell \u001b[1;32mIn[9], line 1\u001b[1;36m\u001b[0m\n\u001b[1;33m    t0T4L-4M0UnT = 5\u001b[0m\n\u001b[1;37m          ^\u001b[0m\n\u001b[1;31mSyntaxError\u001b[0m\u001b[1;31m:\u001b[0m invalid decimal literal\n"
     ]
    }
   ],
   "source": [
    "t0T4L-4M0UnT = 5"
   ]
  },
  {
   "cell_type": "markdown",
   "metadata": {},
   "source": [
    "Question 2"
   ]
  },
  {
   "cell_type": "markdown",
   "metadata": {},
   "source": [
    "The == operator checks whether two values have the same value and data type (unless comparing integers with float values, in which it ignores the type), but the is operator checks if they are the same exact variable/ points to the same object in memory. If the compared values are different data types, they will never be the same object in memory.  \n",
    "\n",
    "5.0 is a float, 5 is an integer, both are the same value, so 5.0 == 5 = true. They are different data types, so aren't the same object, so 5.0 is 5 = false."
   ]
  },
  {
   "cell_type": "markdown",
   "metadata": {},
   "source": [
    "Question 3"
   ]
  },
  {
   "cell_type": "code",
   "execution_count": 22,
   "metadata": {},
   "outputs": [
    {
     "name": "stdout",
     "output_type": "stream",
     "text": [
      "Science\n",
      "emosewAsIecneicSataD\n",
      "DtSineswsm\n"
     ]
    }
   ],
   "source": [
    "s= \"DataScienceIsAwesome\"\n",
    "\n",
    "s_extracted = s[4:11]\n",
    "print(s_extracted)\n",
    "\n",
    "s_reverse = s[::-1]\n",
    "print(s_reverse)\n",
    "\n",
    "s_every2 = s[::2]\n",
    "print(s_every2)\n"
   ]
  },
  {
   "cell_type": "markdown",
   "metadata": {},
   "source": [
    "Question 4"
   ]
  },
  {
   "cell_type": "code",
   "execution_count": 28,
   "metadata": {},
   "outputs": [
    {
     "name": "stdout",
     "output_type": "stream",
     "text": [
      "{'Alice': 95, 'Bob': 85, 'Eve': 95, 'David': 87}\n"
     ]
    }
   ],
   "source": [
    "grades = {\n",
    "    \"Alice\": 90,\n",
    "    \"Bob\": 85,\n",
    "    \"Charlie\": 80,\n",
    "    \"Eve\": 95\n",
    "}\n",
    "grades[\"David\"]= 87\n",
    "grades.update({\"Alice\":95})\n",
    "grades.pop(\"Charlie\")\n",
    "print(grades)"
   ]
  },
  {
   "cell_type": "markdown",
   "metadata": {},
   "source": [
    "Question 5"
   ]
  },
  {
   "cell_type": "markdown",
   "metadata": {},
   "source": [
    "In Python / divides a number with decimal places, so the answer will be a float number. // divides a number, but rounds it down to its integer value.  \n",
    "\n",
    "No matter if you use integers or floats, / will give a float, // will return an integer if both values are integers, and a float otherwise. \n",
    "\n",
    "Example: I have 100,000,000 dollars and I want to donate it equally among 32754 students such that everyone gets the same amount. How much do I give each person? Using both operands,"
   ]
  },
  {
   "cell_type": "code",
   "execution_count": 33,
   "metadata": {},
   "outputs": [
    {
     "name": "stdout",
     "output_type": "stream",
     "text": [
      "3053.062221408072\n",
      "3053\n"
     ]
    }
   ],
   "source": [
    "print(100000000/32754)\n",
    "print(100000000//32754)"
   ]
  },
  {
   "cell_type": "markdown",
   "metadata": {},
   "source": [
    "To me, the decimal place is not important because I cannot donate that fraction of a dollar to those students. I have to round to the nearest dollar, which is more valuable to me.\n",
    "\n",
    "Possible Errors: A company could create a database where a column's data type is an integer. I then make a function that adds values to that column, but because I used / in the function, I'm sending floating point values to the database, which creates errors."
   ]
  },
  {
   "cell_type": "markdown",
   "metadata": {},
   "source": [
    "Question 6"
   ]
  },
  {
   "cell_type": "code",
   "execution_count": 40,
   "metadata": {},
   "outputs": [
    {
     "name": "stdout",
     "output_type": "stream",
     "text": [
      "Andrew\n"
     ]
    }
   ],
   "source": [
    "names = [\"Andrew\", \"Betty\", \"Charlie\", \"Daniel\", \"Edward\", \"Frank\", \"George\", \"Hannah\", \"Isaac\", \"Jack\"]\n",
    "for i in range(0,len(names)):\n",
    "    if (names[i][0] == 'a' or names[i][0] =='A'):\n",
    "        print(names[i])\n"
   ]
  },
  {
   "cell_type": "markdown",
   "metadata": {},
   "source": [
    "Question 7"
   ]
  },
  {
   "cell_type": "markdown",
   "metadata": {},
   "source": [
    "The x += operator is the same thing as x= x+ , so we have x= x+ x*(x-1), which is x= 5+5(5-1). Python follows the same rules as PEMDAS, so we will get x=25. The order is parenthesis (5-1)=4, multiplication 5*4=20, and then addition 5+20=25."
   ]
  },
  {
   "cell_type": "markdown",
   "metadata": {},
   "source": [
    "Question 8"
   ]
  },
  {
   "cell_type": "code",
   "execution_count": 46,
   "metadata": {},
   "outputs": [
    {
     "name": "stdout",
     "output_type": "stream",
     "text": [
      "4\n",
      "Modified list: [[[1, 2], [3, 4]], [[5, 6], [10, 8]]]\n"
     ]
    }
   ],
   "source": [
    "lst = [[[1, 2], [3, 4]], [[5, 6], [7, 8]]]\n",
    "\n",
    "four = lst[0][1][1]\n",
    "print(four)\n",
    "\n",
    "lst[1][1][0] = 10\n",
    "print(\"Modified list:\",lst)\n"
   ]
  },
  {
   "cell_type": "markdown",
   "metadata": {},
   "source": [
    "Question 9"
   ]
  },
  {
   "cell_type": "code",
   "execution_count": 49,
   "metadata": {},
   "outputs": [
    {
     "ename": "NameError",
     "evalue": "name 'my_list' is not defined",
     "output_type": "error",
     "traceback": [
      "\u001b[1;31m---------------------------------------------------------------------------\u001b[0m",
      "\u001b[1;31mNameError\u001b[0m                                 Traceback (most recent call last)",
      "Cell \u001b[1;32mIn[49], line 1\u001b[0m\n\u001b[1;32m----> 1\u001b[0m result \u001b[38;5;241m=\u001b[39m \u001b[38;5;124m\"\u001b[39m\u001b[38;5;124mlong\u001b[39m\u001b[38;5;124m\"\u001b[39m \u001b[38;5;28;01mif\u001b[39;00m \u001b[38;5;28mlen\u001b[39m(\u001b[43mmy_list\u001b[49m) \u001b[38;5;241m>\u001b[39m \u001b[38;5;241m5\u001b[39m \u001b[38;5;28;01melse\u001b[39;00m  \u001b[38;5;124m\"\u001b[39m\u001b[38;5;124mshort\u001b[39m\u001b[38;5;124m\"\u001b[39m\n",
      "\u001b[1;31mNameError\u001b[0m: name 'my_list' is not defined"
     ]
    }
   ],
   "source": [
    "result = \"long\" if len(my_list) > 5 else \"short\""
   ]
  },
  {
   "cell_type": "markdown",
   "metadata": {},
   "source": [
    "Question 10"
   ]
  },
  {
   "cell_type": "code",
   "execution_count": 56,
   "metadata": {},
   "outputs": [
    {
     "name": "stdout",
     "output_type": "stream",
     "text": [
      "[(1, 1), (2, 8), (3, 27), (4, 64), (5, 125), (6, 216), (7, 343), (8, 512), (9, 729), (10, 1000)]\n"
     ]
    }
   ],
   "source": [
    "cubes = [(x,x**3) for x in range(1,11)]\n",
    "print(cubes)"
   ]
  }
 ],
 "metadata": {
  "kernelspec": {
   "display_name": "Python 3",
   "language": "python",
   "name": "python3"
  },
  "language_info": {
   "codemirror_mode": {
    "name": "ipython",
    "version": 3
   },
   "file_extension": ".py",
   "mimetype": "text/x-python",
   "name": "python",
   "nbconvert_exporter": "python",
   "pygments_lexer": "ipython3",
   "version": "3.12.0"
  }
 },
 "nbformat": 4,
 "nbformat_minor": 2
}
