{
 "cells": [
  {
   "cell_type": "code",
   "execution_count": 10,
   "metadata": {},
   "outputs": [
    {
     "ename": "NameError",
     "evalue": "name 'measles' is not defined",
     "output_type": "error",
     "traceback": [
      "\u001b[1;31m---------------------------------------------------------------------------\u001b[0m",
      "\u001b[1;31mNameError\u001b[0m                                 Traceback (most recent call last)",
      "Cell \u001b[1;32mIn[10], line 15\u001b[0m\n\u001b[0;32m     12\u001b[0m literacy_null \u001b[38;5;241m=\u001b[39m df[\u001b[38;5;124m'\u001b[39m\u001b[38;5;124madult_literacy_rate\u001b[39m\u001b[38;5;124m'\u001b[39m]\u001b[38;5;241m.\u001b[39misnull()\u001b[38;5;241m.\u001b[39msum\n\u001b[0;32m     14\u001b[0m measles_stats \u001b[38;5;241m=\u001b[39m df[\u001b[38;5;124m'\u001b[39m\u001b[38;5;124mmeasles_immunisation_rate\u001b[39m\u001b[38;5;124m'\u001b[39m]\u001b[38;5;241m.\u001b[39mdescribe()\n\u001b[1;32m---> 15\u001b[0m \u001b[43mmeasles\u001b[49m\u001b[38;5;241m.\u001b[39mnull \u001b[38;5;241m=\u001b[39m df[\u001b[38;5;124m'\u001b[39m\u001b[38;5;124mmeasles_immunisation_rate\u001b[39m\u001b[38;5;124m'\u001b[39m]\u001b[38;5;241m.\u001b[39misnull()\u001b[38;5;241m.\u001b[39msum\n",
      "\u001b[1;31mNameError\u001b[0m: name 'measles' is not defined"
     ]
    }
   ],
   "source": [
    "\n",
    "#Import Libaries\n",
    "import pandas as pd\n",
    "import numpy as np\n",
    "\n",
    "df= pd.read_csv('wdi.csv')\n",
    "df.columns\n",
    "\n",
    "gdp_stats = df['gdp_per_capita'].describe()\n",
    "gdp_null = df['gdp_per_capita'].isnull().sum\n",
    "\n",
    "literacy_stats = df['adult_literacy_rate'].describe()\n",
    "literacy_null = df['adult_literacy_rate'].isnull().sum\n",
    "\n",
    "measles_stats = df['measles_immunisation_rate'].describe()\n",
    "measles_null = df['measles_immunisation_rate'].isnull().sum\n"
   ]
  },
  {
   "cell_type": "code",
   "execution_count": 8,
   "metadata": {},
   "outputs": [
    {
     "data": {
      "text/plain": [
       "count    193.000000\n",
       "mean      83.854922\n",
       "std       15.996083\n",
       "min        0.000000\n",
       "25%       76.000000\n",
       "50%       90.000000\n",
       "75%       96.000000\n",
       "max       99.000000\n",
       "Name: measles_immunisation_rate, dtype: float64"
      ]
     },
     "execution_count": 8,
     "metadata": {},
     "output_type": "execute_result"
    }
   ],
   "source": [
    "df['measles_immunisation_rate'].describe()"
   ]
  }
 ],
 "metadata": {
  "kernelspec": {
   "display_name": "Python 3",
   "language": "python",
   "name": "python3"
  },
  "language_info": {
   "codemirror_mode": {
    "name": "ipython",
    "version": 3
   },
   "file_extension": ".py",
   "mimetype": "text/x-python",
   "name": "python",
   "nbconvert_exporter": "python",
   "pygments_lexer": "ipython3",
   "version": "3.12.0"
  }
 },
 "nbformat": 4,
 "nbformat_minor": 2
}
