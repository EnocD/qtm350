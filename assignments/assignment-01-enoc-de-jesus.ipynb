{
 "cells": [
  {
   "cell_type": "markdown",
   "metadata": {},
   "source": [
    "# QTM 350 - Data Science Computing\n",
    "\n",
    "## Assignment 01 - Computational Literacy\n",
    "### Due 11 September 2024\n",
    "\n",
    "### Instructions\n",
    "\n",
    "This assignment evaluates your understanding of topics covered in the first two weeks of class, including binary and hexadecimal number systems, ASCII encoding, and programming language fundamentals.\n",
    "\n",
    "You must complete this assignment individually. While you may use available resources such as notes, books, and AI tools, you are expected to submit original work. Please acknowledge all resources used, including input from classmates and AI. If you are unsure about permissible resources or proper acknowledgement, please consult the instructor.\n",
    "\n",
    "Present your solutions clearly and systematically, showing your problem-solving process. Please ensure that any code is well-commented.\n",
    "\n",
    "### Submission\n",
    "\n",
    "Please submit your solutions as either a single Jupyter notebook or a PDF file. Follow the instructions provided in each section carefully. Submit your completed assignment to Canvas or via email (danilo.freire@emory.edu) by Wednesday, September 11, at 11:59 PM."
   ]
  },
  {
   "cell_type": "markdown",
   "metadata": {},
   "source": [
    "### Question 01\n",
    "\n",
    "Convert the decimal number 53 to binary. Show your work."
   ]
  },
  {
   "cell_type": "markdown",
   "metadata": {},
   "source": [
    "53 = 1*2^5 + 21 = 1*2^5 + 1*2^4 + 5 \n",
    "= 1*2^5 + 1*2^4 + 0*2^3 + 1*2^2 + 0*2^1 + 1*2^0. \n",
    "So 53 = 110101\n"
   ]
  },
  {
   "cell_type": "markdown",
   "metadata": {},
   "source": [
    "### Question 02\n",
    "\n",
    "Convert the binary number 1011001 to decimal. Show your work."
   ]
  },
  {
   "cell_type": "markdown",
   "metadata": {},
   "source": [
    "\n",
    "1011001 = 1*2^6 + 0*2^5 + 1*2^4 + 1*2^3 + 0*2^2 + 0*2^1 + 1*2^0 = 64+16+8+1= 89\n"
   ]
  },
  {
   "cell_type": "markdown",
   "metadata": {},
   "source": [
    "### Question 03\n",
    "\n",
    "What is the hexadecimal representation of the RGB colour (128, 64, 255)? Explain your answer."
   ]
  },
  {
   "cell_type": "markdown",
   "metadata": {},
   "source": [
    "128 = 10000000. Now we make each 4 bits into a hexadecimal\n",
    "1000 = 8, 0000 = 0. Now we do it for the other colors.\n",
    "\n",
    "64= 01000000. 0100 = 4, 0000= 0\n",
    "255 = 11111111. 1111= F, 1111=F\n",
    "\n",
    "So (128,64,255) in hex = #8040FF\n"
   ]
  },
  {
   "cell_type": "markdown",
   "metadata": {},
   "source": [
    "### Question 04\n",
    "\n",
    "Convert the hexadecimal colour #2A9F3B to its RGB components. Show your steps."
   ]
  },
  {
   "cell_type": "markdown",
   "metadata": {},
   "source": [
    "2= 0010, A = 1010, 9 =1001, F=1111, 3=0011, B= 1011\n",
    "\n",
    "00101010 = 32+8+2 = 42. 10011111= 128+16+8+4+2+1 = 159. 00111011 = 32+16+8+2+1 = 59\n",
    "\n",
    "So the RBG is (42,159,59)."
   ]
  },
  {
   "cell_type": "markdown",
   "metadata": {},
   "source": [
    "### Question 05\n",
    "\n",
    "Using the coin representation system described in the lecture (c[quarters][dimes][nickels][pennies]), convert $1.37 to coin representation. Explain your reasoning."
   ]
  },
  {
   "cell_type": "markdown",
   "metadata": {},
   "source": [
    "First with the largest denomination, 5 quarters fit into 1.37. So\n",
    "\n",
    "1.37 = 5(0.25) +0.12. Next with dimes, 1 will fit, so 1.37 = 5(0.25) + 1(0.10)+ 0.02.\n",
    "No nickels will fit, so we skip it to pennies, where 2 fit. So\n",
    "\n",
    "1.37 = c[5][1][0][2]\n"
   ]
  },
  {
   "cell_type": "markdown",
   "metadata": {},
   "source": [
    "### Question 06\n",
    "\n",
    "What is the Unicode representation of the word \"Emory\"? Use the Unicode table provided in the lecture to find out."
   ]
  },
  {
   "cell_type": "markdown",
   "metadata": {},
   "source": [
    "E = U+0045, m= U+006D, o= U+006F, r= U+0072, y = U+0079, so\n",
    "\n",
    "\"Emory\" = \\u0045\\u006d\\u006f\\u0072\\u0079\n"
   ]
  },
  {
   "cell_type": "markdown",
   "metadata": {},
   "source": [
    "### Question 07\n",
    "\n",
    "Explain the difference between ASCII and Unicode. Why was Unicode developed, and what advantages does it offer over ASCII?"
   ]
  },
  {
   "cell_type": "markdown",
   "metadata": {},
   "source": [
    "ASCII is a way to represent characters as numbers which was standardized so all computers can have the same representation. Advantage: Each character is represented by only one byte.\n",
    "\n",
    "The problem is that ASCII has less than 255 characters, so letters with accents or \n",
    "languages with other writing systems cannot be used. \n",
    "So Unicode was made and includes\n",
    "characters from all languages and symbols and emojis, but each character uses up to\n",
    "5 bytes. Advantage: Way more characters can be expressed.\n"
   ]
  },
  {
   "cell_type": "markdown",
   "metadata": {},
   "source": [
    "### Question 08\n",
    "\n",
    "Describe the Von Neumann architecture and its significance in modern computing. What is the Von Neumann bottleneck, and how does it affect computer performance?"
   ]
  },
  {
   "cell_type": "markdown",
   "metadata": {},
   "source": [
    "The Von Neumman architecture stores both program instructions and data together in\n",
    "a slow storage and transfers them to faster ram and execution by the CPU. This is significant because most computers nowadays use this architecture. The Von Neumann bottleneck says computers have a limit in how much processing a CPU can do due to the slower transfer rate of the RAM. CPU often waits for data because of it. \n"
   ]
  },
  {
   "cell_type": "markdown",
   "metadata": {},
   "source": [
    "### Question 09\n",
    "\n",
    "Compare and contrast low-level and high-level programming languages. Give two examples of each and explain when you might choose to use one over the other."
   ]
  },
  {
   "cell_type": "markdown",
   "metadata": {},
   "source": [
    "Low-level languages are languages whose codes that are closer to what the machine reads, but is extremely hard for humans to read it and write it. Examples of them are binary and hexadecimal code.\n",
    "\n",
    "High-level languages are languages whose codes are much easier for humans to read and write, but it is slower to execute because the computer has to translate the abstraction. Examples of them are Python and Java.\n"
   ]
  },
  {
   "cell_type": "markdown",
   "metadata": {},
   "source": [
    "### Question 10\n",
    "\n",
    "Discuss the concept of abstraction in computer science, using the representation of images in computers as an example. How does this abstraction process impact data analysis and predictive modelling in image-related tasks?"
   ]
  },
  {
   "cell_type": "markdown",
   "metadata": {},
   "source": [
    "Abstraction allows computer scientists to simplify complex code/systems or making code/systems easier to work with. When it comes to images, we can represent the image as an nxm grid of pixels, where each pixel has an RBG value to represent the color. This makes it easy to use the image for data analysis as now the image is stored as an array of numbers. It impacts predictive modelling by allowing code to find patterns in the image by analyzing the pixels."
   ]
  }
 ],
 "metadata": {
  "kernelspec": {
   "display_name": "base",
   "language": "python",
   "name": "python3"
  },
  "language_info": {
   "codemirror_mode": {
    "name": "ipython",
    "version": 3
   },
   "file_extension": ".py",
   "mimetype": "text/x-python",
   "name": "python",
   "nbconvert_exporter": "python",
   "pygments_lexer": "ipython3",
   "version": "3.12.2"
  }
 },
 "nbformat": 4,
 "nbformat_minor": 2
}
